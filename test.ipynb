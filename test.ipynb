{
 "cells": [
  {
   "cell_type": "code",
   "execution_count": 3,
   "id": "c76ea3d8",
   "metadata": {},
   "outputs": [
    {
     "name": "stdout",
     "output_type": "stream",
     "text": [
      "0\n"
     ]
    }
   ],
   "source": [
    "for i in range(10):\n",
    "    if i % 2 == 0:\n",
    "        print(i)\n",
    "        break\n",
    "    else:\n",
    "        print(i ** 2)\n",
    "        break\n",
    "else:\n",
    "    print(\"Completed without break\")"
   ]
  },
  {
   "cell_type": "code",
   "execution_count": null,
   "id": "0fef943f",
   "metadata": {},
   "outputs": [],
   "source": [
    "i = 0\n",
    "\n",
    "while i < 10:\n",
    "    if i % 2 == 0:\n",
    "        print(i)\n",
    "        break\n",
    "    else:\n",
    "        print(i ** 2)\n",
    "        break\n",
    "    i += 1\n",
    "else:\n",
    "    print(\"Completed without break\")"
   ]
  },
  {
   "cell_type": "code",
   "execution_count": 10,
   "id": "e9224078",
   "metadata": {},
   "outputs": [
    {
     "data": {
      "text/plain": [
       "32"
      ]
     },
     "execution_count": 10,
     "metadata": {},
     "output_type": "execute_result"
    }
   ],
   "source": [
    "months = [31, 28, 31, 30, 31, 30, 31, 31, 30, 31, 30]\n",
    "m = 11\n",
    "d = 24\n",
    "sum(months[m-1:]) + (25 - d + 1)"
   ]
  }
 ],
 "metadata": {
  "kernelspec": {
   "display_name": "Python 3",
   "language": "python",
   "name": "python3"
  },
  "language_info": {
   "codemirror_mode": {
    "name": "ipython",
    "version": 3
   },
   "file_extension": ".py",
   "mimetype": "text/x-python",
   "name": "python",
   "nbconvert_exporter": "python",
   "pygments_lexer": "ipython3",
   "version": "3.12.1"
  }
 },
 "nbformat": 4,
 "nbformat_minor": 5
}
